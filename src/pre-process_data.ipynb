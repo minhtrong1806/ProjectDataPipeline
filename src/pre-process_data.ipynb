{
 "cells": [
  {
   "cell_type": "code",
   "execution_count": 11,
   "metadata": {},
   "outputs": [],
   "source": [
    "from pyspark.sql.functions import udf\n",
    "from pyspark.sql.types import StringType\n",
    "import time_uuid\n",
    "from uuid import UUID\n",
    "from util.util import *\n",
    "from util.dbFactory import DatabaseFactory\n"
   ]
  },
  {
   "cell_type": "code",
   "execution_count": 12,
   "metadata": {},
   "outputs": [],
   "source": [
    "spark = create_spark_session()"
   ]
  },
  {
   "cell_type": "code",
   "execution_count": 13,
   "metadata": {},
   "outputs": [],
   "source": [
    "data = spark.read.format(\"org.apache.spark.sql.cassandra\").options(table = 'tracking',keyspace = 'logs').load()"
   ]
  },
  {
   "cell_type": "code",
   "execution_count": 14,
   "metadata": {},
   "outputs": [],
   "source": [
    "def process_data(data):\n",
    "    # UDF chuyển đổi từ TimeUUID sang datetime string\n",
    "    def to_datetime_str(x):\n",
    "        return time_uuid.TimeUUID(bytes=UUID(x).bytes).get_datetime().strftime('%Y-%m-%d %H:%M:%S')\n",
    "    \n",
    "    # Đăng ký UDF với Spark\n",
    "    to_datetime_str_udf = udf(to_datetime_str, StringType())\n",
    "    \n",
    "    # Tạo cột mới 'ts' với giá trị datetime chuyển đổi từ 'create_time'\n",
    "    result = data.withColumn('ts', to_datetime_str_udf('create_time'))\n",
    "    \n",
    "    # Lựa chọn các cột cần thiết\n",
    "    # result = result.select('create_time', 'ts', 'job_id', 'custom_track', 'bid', 'campaign_id', 'group_id', 'publisher_id')\n",
    "    \n",
    "    return result\n",
    "\n",
    "data = process_data(data)"
   ]
  },
  {
   "cell_type": "code",
   "execution_count": 17,
   "metadata": {},
   "outputs": [],
   "source": [
    "data = data.cache()"
   ]
  },
  {
   "cell_type": "code",
   "execution_count": 16,
   "metadata": {},
   "outputs": [
    {
     "name": "stdout",
     "output_type": "stream",
     "text": [
      "+--------------------+----+----------+-----------+---+------------+-----+--------------------+---------------+--------------------+---+--------+----+------+----+------------+--------------------+---------+-------------------+----+--------------------+-------------------+------------+-----------+----------+----------+--------+---+--------+\n",
      "|         create_time| bid|        bn|campaign_id| cd|custom_track|   de|                  dl|             dt|                  ed| ev|group_id|  id|job_id|  md|publisher_id|                  rl|       sr|                 ts|  tz|                  ua|                uid|utm_campaign|utm_content|utm_medium|utm_source|utm_term|  v|      vp|\n",
      "+--------------------+----+----------+-----------+---+------------+-----+--------------------+---------------+--------------------+---+--------+----+------+----+------------+--------------------+---------+-------------------+----+--------------------+-------------------+------------+-----------+----------+----------+--------+---+--------+\n",
      "|fa7b0b30-0d61-11e...|   0|Chrome 103|        151| 24|       click|UTF-8|http://fe.dev.got...|CandidatePortal|{\"customEvent\":\"c...|  2|      28|NULL|  1103|TRUE|           1|                NULL| 1366x768|2022-07-27 04:09:58|-420|Mozilla/5.0 (Wind...|1-347wwfkr-l632u1zk|        NULL|       NULL|      NULL|      NULL|    NULL|  1|1366x625|\n",
      "|48b852a0-00ea-11e...|NULL|Chrome 103|       NULL| 24|       click|UTF-8|http://150.136.2....|CandidatePortal|{\"customEvent\":\"c...|  2|    NULL|NULL|  NULL|TRUE|        NULL|                NULL| 1536x864|2022-07-11 07:22:56|-420|Mozilla/5.0 (Wind...|1-0d5ciljy-l4pdlaxd|        NULL|       NULL|      NULL|      NULL|    NULL|  1|1536x714|\n",
      "|fdb96320-0b39-11e...|NULL|Chrome 103|       NULL| 24|        NULL|UTF-8|http://fe.stag.go...|CandidatePortal|                NULL|  1|    NULL|NULL|  NULL|TRUE|        NULL|                NULL| 1366x768|2022-07-24 10:18:41|-420|Mozilla/5.0 (Wind...|1-m5ngo83k-l5z62pzj|        NULL|       NULL|      NULL|      NULL|    NULL|  1|1366x625|\n",
      "|7e026e80-0a0b-11e...|NULL|Chrome 102|       NULL| 24|       click|UTF-8|http://localhost:...|CandidatePortal|{\"customEvent\":\"c...|  2|    NULL|NULL|  NULL|TRUE|        NULL|http://localhost:...|1920x1080|2022-07-22 22:13:19|-420|Mozilla/5.0 (Maci...|1-ok78d38x-l5j7ka8p|        NULL|       NULL|      NULL|      NULL|    NULL|  1|1920x976|\n",
      "|dde87f70-0b59-11e...|   1|Chrome 103|         48| 24|       click|UTF-8|http://fe.dev.got...|CandidatePortal|{\"customEvent\":\"c...|  2|      34|NULL|   188|TRUE|           1|                NULL| 1366x768|2022-07-24 14:06:52|-420|Mozilla/5.0 (Wind...|1-zof0i457-l5ze6uuv|        NULL|       NULL|      NULL|      NULL|    NULL|  1|1366x625|\n",
      "+--------------------+----+----------+-----------+---+------------+-----+--------------------+---------------+--------------------+---+--------+----+------+----+------------+--------------------+---------+-------------------+----+--------------------+-------------------+------------+-----------+----------+----------+--------+---+--------+\n",
      "only showing top 5 rows\n",
      "\n"
     ]
    }
   ],
   "source": [
    "data.show(5)"
   ]
  },
  {
   "cell_type": "code",
   "execution_count": 18,
   "metadata": {},
   "outputs": [
    {
     "name": "stderr",
     "output_type": "stream",
     "text": [
      "WARNING:cassandra.cluster:Cluster.__init__ called with contact_points specified, but no load_balancing_policy. In the next major version, this will raise an error; please specify a load-balancing policy. (contact_points = ['localhost'], lbp = None)\n",
      "WARNING:cassandra.cluster:Downgrading core protocol version from 66 to 65 for 127.0.0.1:9042. To avoid this, it is best practice to explicitly set Cluster(protocol_version) to the version supported by your cluster. http://datastax.github.io/python-driver/api/cassandra/cluster.html#cassandra.cluster.Cluster.protocol_version\n",
      "WARNING:cassandra.cluster:Downgrading core protocol version from 65 to 5 for 127.0.0.1:9042. To avoid this, it is best practice to explicitly set Cluster(protocol_version) to the version supported by your cluster. http://datastax.github.io/python-driver/api/cassandra/cluster.html#cassandra.cluster.Cluster.protocol_version\n"
     ]
    },
    {
     "data": {
      "text/plain": [
       "<cassandra.cluster.ResultSet at 0x2227d2ac3a0>"
      ]
     },
     "execution_count": 18,
     "metadata": {},
     "output_type": "execute_result"
    },
    {
     "name": "stderr",
     "output_type": "stream",
     "text": [
      "WARNING:cassandra.cluster:[control connection] Error connecting to 127.0.0.1:9042:\n",
      "Traceback (most recent call last):\n",
      "  File \"f:\\ProjectDataPipeline\\.venv\\lib\\site-packages\\cassandra\\cluster.py\", line 3577, in _reconnect_internal\n",
      "    return self._try_connect(host)\n",
      "  File \"f:\\ProjectDataPipeline\\.venv\\lib\\site-packages\\cassandra\\cluster.py\", line 3599, in _try_connect\n",
      "    connection = self._cluster.connection_factory(host.endpoint, is_control_connection=True)\n",
      "  File \"f:\\ProjectDataPipeline\\.venv\\lib\\site-packages\\cassandra\\cluster.py\", line 1670, in connection_factory\n",
      "    return self.connection_class.factory(endpoint, self.connect_timeout, *args, **kwargs)\n",
      "  File \"f:\\ProjectDataPipeline\\.venv\\lib\\site-packages\\cassandra\\connection.py\", line 846, in factory\n",
      "    conn = cls(endpoint, *args, **kwargs)\n",
      "  File \"f:\\ProjectDataPipeline\\.venv\\lib\\site-packages\\cassandra\\io\\asyncorereactor.py\", line 353, in __init__\n",
      "    self._connect_socket()\n",
      "  File \"f:\\ProjectDataPipeline\\.venv\\lib\\site-packages\\cassandra\\connection.py\", line 951, in _connect_socket\n",
      "    raise socket.error(sockerr.errno, \"Tried connecting to %s. Last error: %s\" %\n",
      "ConnectionRefusedError: [Errno 10061] Tried connecting to [('127.0.0.1', 9042)]. Last error: No connection could be made because the target machine actively refused it\n",
      "WARNING:cassandra.pool:Error attempting to reconnect to 127.0.0.1:9042, scheduling retry in 4.16 seconds: [Errno 10061] Tried connecting to [('127.0.0.1', 9042)]. Last error: No connection could be made because the target machine actively refused it\n",
      "WARNING:cassandra.pool:Error attempting to reconnect to 127.0.0.1:9042, scheduling retry in 14.56 seconds: [Errno 10061] Tried connecting to [('127.0.0.1', 9042)]. Last error: No connection could be made because the target machine actively refused it\n",
      "WARNING:cassandra.pool:Error attempting to reconnect to 127.0.0.1:9042, scheduling retry in 60.16 seconds: [Errno 10061] Tried connecting to [('127.0.0.1', 9042)]. Last error: No connection could be made because the target machine actively refused it\n",
      "WARNING:cassandra.pool:Error attempting to reconnect to 127.0.0.1:9042, scheduling retry in 294.4 seconds: [Errno 10061] Tried connecting to [('127.0.0.1', 9042)]. Last error: No connection could be made because the target machine actively refused it\n"
     ]
    }
   ],
   "source": [
    "\n",
    "# Kết nối đến Cassandra\n",
    "factory = DatabaseFactory()\n",
    "session = factory.create_connect('cassandra')\n",
    "\n",
    "# Xóa toàn bộ dữ liệu trong bảng\n",
    "session.execute('TRUNCATE tracking')\n"
   ]
  },
  {
   "cell_type": "code",
   "execution_count": 19,
   "metadata": {},
   "outputs": [
    {
     "name": "stderr",
     "output_type": "stream",
     "text": [
      "WARNING:cassandra.connection:Heartbeat failed for connection (2347151365072) to 127.0.0.1:9042\n",
      "WARNING:cassandra.cluster:Host 127.0.0.1:9042 has been marked down\n",
      "WARNING:cassandra.pool:Error attempting to reconnect to 127.0.0.1:9042, scheduling retry in 4.08 seconds: Connection to 127.0.0.1:9042 was closed\n",
      "WARNING:cassandra.connection:Heartbeat failed for connection (2347152091120) to 127.0.0.1:9042\n",
      "WARNING:cassandra.cluster:Host 127.0.0.1:9042 has been marked down\n",
      "WARNING:cassandra.pool:Error attempting to reconnect to 127.0.0.1:9042, scheduling retry in 1.76 seconds: [Errno 10061] Tried connecting to [('127.0.0.1', 9042)]. Last error: No connection could be made because the target machine actively refused it\n",
      "WARNING:cassandra.pool:Error attempting to reconnect to 127.0.0.1:9042, scheduling retry in 16.16 seconds: [Errno 10061] Tried connecting to [('127.0.0.1', 9042)]. Last error: No connection could be made because the target machine actively refused it\n",
      "WARNING:cassandra.pool:Error attempting to reconnect to 127.0.0.1:9042, scheduling retry in 9.12 seconds: [Errno 10061] Tried connecting to [('127.0.0.1', 9042)]. Last error: No connection could be made because the target machine actively refused it\n",
      "WARNING:cassandra.pool:Error attempting to reconnect to 127.0.0.1:9042, scheduling retry in 27.2 seconds: [Errno 10061] Tried connecting to [('127.0.0.1', 9042)]. Last error: No connection could be made because the target machine actively refused it\n",
      "WARNING:cassandra.pool:Error attempting to reconnect to 127.0.0.1:9042, scheduling retry in 62.08 seconds: [Errno 10061] Tried connecting to [('127.0.0.1', 9042)]. Last error: No connection could be made because the target machine actively refused it\n",
      "WARNING:cassandra.pool:Error attempting to reconnect to 127.0.0.1:9042, scheduling retry in 128.0 seconds: [Errno 10061] Tried connecting to [('127.0.0.1', 9042)]. Last error: No connection could be made because the target machine actively refused it\n",
      "WARNING:cassandra.pool:Error attempting to reconnect to 127.0.0.1:9042, scheduling retry in 220.16 seconds: [Errno 10061] Tried connecting to [('127.0.0.1', 9042)]. Last error: No connection could be made because the target machine actively refused it\n",
      "WARNING:cassandra.pool:Error attempting to reconnect to 127.0.0.1:9042, scheduling retry in 568.32 seconds: [Errno 10061] Tried connecting to [('127.0.0.1', 9042)]. Last error: No connection could be made because the target machine actively refused it\n",
      "WARNING:cassandra.pool:Error attempting to reconnect to 127.0.0.1:9042, scheduling retry in 552.0 seconds: [Errno 10061] Tried connecting to [('127.0.0.1', 9042)]. Last error: No connection could be made because the target machine actively refused it\n"
     ]
    }
   ],
   "source": [
    "data.write \\\n",
    "    .format(\"org.apache.spark.sql.cassandra\") \\\n",
    "    .options(table=\"tracking\", keyspace=\"logs\") \\\n",
    "    .mode(\"append\") \\\n",
    "    .save()"
   ]
  }
 ],
 "metadata": {
  "kernelspec": {
   "display_name": ".venv",
   "language": "python",
   "name": "python3"
  },
  "language_info": {
   "codemirror_mode": {
    "name": "ipython",
    "version": 3
   },
   "file_extension": ".py",
   "mimetype": "text/x-python",
   "name": "python",
   "nbconvert_exporter": "python",
   "pygments_lexer": "ipython3",
   "version": "3.9.12"
  }
 },
 "nbformat": 4,
 "nbformat_minor": 2
}
